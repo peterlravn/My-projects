{
 "cells": [
  {
   "cell_type": "code",
   "execution_count": 349,
   "metadata": {},
   "outputs": [],
   "source": [
    "import random"
   ]
  },
  {
   "cell_type": "code",
   "execution_count": 350,
   "metadata": {},
   "outputs": [],
   "source": [
    "text = input("Insert the word you want to randomly capitalize")
   ]
  },
  {
   "cell_type": "code",
   "execution_count": 351,
   "metadata": {
    "scrolled": true
   },
   "outputs": [],
   "source": [
    "def capi_sentence(sentence):\n",
    "    new_sentence = \"\"\n",
    "    number = 0 #Dummy number for tracking\n",
    "\n",
    "    for letter in sentence.lower():\n",
    "        if len(new_sentence)<2: #Creates the first two letter\n",
    "            random_number = random.randint(0,1) #This randomly decides if the letter should be upper or lowercase\n",
    "            if random_number==0:\n",
    "                new_sentence += letter.upper()\n",
    "            else:\n",
    "                new_sentence += letter\n",
    "        else:\n",
    "            if (new_sentence[number-2].isupper() and new_sentence[number-1].isupper() or new_sentence[number-2].islower() and new_sentence[number-1].islower())==True:\n",
    "                #Checks if the two letters before are both upper or lowercase\n",
    "                if new_sentence[number-1].isupper(): #Makes the next letter the opposite of the letter before\n",
    "                    new_sentence += letter.lower()\n",
    "                else:\n",
    "                    new_sentence += letter.upper()\n",
    "            else:\n",
    "                random_number = random.randint(0,1)\n",
    "                if random_number==0:\n",
    "                    new_sentence += letter.upper()\n",
    "                else:\n",
    "                    new_sentence += letter\n",
    "                \n",
    "        number += 1 #Add one more to the tracking\n",
    "     \n",
    "    print(new_sentence)"
   ]
  },
  {
   "cell_type": "code",
   "execution_count": 352,
   "metadata": {},
   "outputs": [
    {
     "name": "stdout",
     "output_type": "stream",
     "text": [
      "WhAT thE FUcK dID yOU JusT fUckINg saY aBOuT me, YoU LIttLE BItCH?\n"
     ]
    }
   ],
   "source": [
    "capi_sentence(text)"
   ]
  }
 ],
 "metadata": {
  "kernelspec": {
   "display_name": "Python 3",
   "language": "python",
   "name": "python3"
  },
  "language_info": {
   "codemirror_mode": {
    "name": "ipython",
    "version": 3
   },
   "file_extension": ".py",
   "mimetype": "text/x-python",
   "name": "python",
   "nbconvert_exporter": "python",
   "pygments_lexer": "ipython3",
   "version": "3.7.6"
  }
 },
 "nbformat": 4,
 "nbformat_minor": 4
}
